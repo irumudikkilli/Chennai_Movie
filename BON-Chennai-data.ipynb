{
 "cells": [
  {
   "cell_type": "markdown",
   "metadata": {},
   "source": [
    "##### Data\n",
    "\n",
    "For Pincodes in India, the project uses data from download.geonames.org/export/dump/IN.zip, downloaded to a file in IBM cloud storage object and accessed through ibm_boto3.\n",
    "\n",
    "Four-square API will be used to perform location search, sharing and details about various businesses. "
   ]
  }
 ],
 "metadata": {
  "kernelspec": {
   "display_name": "Python 3",
   "language": "python",
   "name": "python3"
  },
  "language_info": {
   "codemirror_mode": {
    "name": "ipython",
    "version": 3
   },
   "file_extension": ".py",
   "mimetype": "text/x-python",
   "name": "python",
   "nbconvert_exporter": "python",
   "pygments_lexer": "ipython3",
   "version": "3.7.0"
  }
 },
 "nbformat": 4,
 "nbformat_minor": 2
}

{
 "cells": [
  {
   "cell_type": "markdown",
   "metadata": {},
   "source": [
    "##### Project Description:\n",
    "\n",
    "In India, Pincodes (postal codes) are not correlated with any specific census locations. From election ward (precincts) purposes, a single pincode area might be split up and contained in\n",
    "multiple wards.\n",
    "\n",
    "This project uses Pincodes to identify the nature of neighborhoods in the City of Chennai from a micro-business targetting point of view. Given that the movie industry is intertwined \n",
    "culturally and politically with Southern India, this project will attempt to identifiy micro localities based on Pincodes in the Southern City of Chennai where movie going is the\n",
    "primary past time activity with disposable income.\n"
   ]
  }
 ],
 "metadata": {
  "kernelspec": {
   "display_name": "Python 3",
   "language": "python",
   "name": "python3"
  },
  "language_info": {
   "codemirror_mode": {
    "name": "ipython",
    "version": 3
   },
   "file_extension": ".py",
   "mimetype": "text/x-python",
   "name": "python",
   "nbconvert_exporter": "python",
   "pygments_lexer": "ipython3",
   "version": "3.7.0"
  }
 },
 "nbformat": 4,
 "nbformat_minor": 2
}

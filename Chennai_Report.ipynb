{
 "cells": [
  {
   "cell_type": "markdown",
   "metadata": {
    "collapsed": true
   },
   "source": [
    "# Battle of Neighborhoods\n",
    "## Chennai, TamilNadu, India\n"
   ]
  },
  {
   "cell_type": "markdown",
   "metadata": {},
   "source": [
    "### Description:\n",
    "\n",
    "In India, Pincodes (postal codes) are not correlated with any specific census locations. From election ward (precincts) purposes, a single pincode area might be split up and contained in multiple wards.\n",
    "\n",
    "This project uses Pincodes to identify the nature of neighborhoods in the City of Chennai from a micro-business targetting point of view. Given that the movie industry is intertwined culturally and politically with Southern India, this project will attempt to identifiy micro localities based on Pincodes in the Southern City of Chennai where movie going is the primary past time activity with disposable income.\n",
    "\n"
   ]
  },
  {
   "cell_type": "markdown",
   "metadata": {},
   "source": [
    "##### Data\n",
    "\n",
    "For Pincodes in India, the project uses data from download.geonames.org/export/dump/IN.zip, downloaded to a file in IBM cloud storage object and accessed through ibm_boto3.\n",
    "\n",
    "Four-square API will be used to perform location search, sharing and details about various businesses. "
   ]
  },
  {
   "cell_type": "markdown",
   "metadata": {},
   "source": [
    "##### Methodology\n",
    "\n",
    "Foursquare API server connections were used to extract information related to locations based on pincodes.\n",
    "\n",
    "Folium was used to visualize the locations distribution.\n",
    "\n",
    "K-mean clustering used to form clusters of different categories of places around the locations.\n",
    "\n"
   ]
  },
  {
   "cell_type": "markdown",
   "metadata": {},
   "source": [
    "##### Results\n",
    "\n",
    "In cluster 0, Sembiam and Vadapalani are identified as locations with most movie going activity.\n",
    "\n",
    "In cluster 1, there were no locations with most movie going activity.\n",
    "\n",
    "In cluster 2, Agaram and Perambur are identified as locations with most movie going activity.\n",
    "\n",
    "In cluster 3, Perambur North is identified as the location with most movie going activity.\n",
    "\n"
   ]
  },
  {
   "cell_type": "markdown",
   "metadata": {},
   "source": [
    "##### Recommendations\n",
    "\n",
    "The locations identified in the results section above are ideal for test screenings to gauage feedback for any \n",
    "adjustments and reshoot before a wider release."
   ]
  },
  {
   "cell_type": "markdown",
   "metadata": {},
   "source": [
    "##### Conclusion\n",
    "\n",
    "While Pincodes are not associated with any census areas or election wards in India, micro-business analytics can be \n",
    "formed based on Pincodes incorporating other data as well (such as streets and households based on pincodes, demographics in wards, household income, mobile phone tower locations)\n",
    "to gauge the nature of the location.\n"
   ]
  },
  {
   "cell_type": "code",
   "execution_count": null,
   "metadata": {},
   "outputs": [],
   "source": []
  }
 ],
 "metadata": {
  "kernelspec": {
   "display_name": "Python 3",
   "language": "python",
   "name": "python3"
  },
  "language_info": {
   "codemirror_mode": {
    "name": "ipython",
    "version": 3
   },
   "file_extension": ".py",
   "mimetype": "text/x-python",
   "name": "python",
   "nbconvert_exporter": "python",
   "pygments_lexer": "ipython3",
   "version": "3.7.0"
  }
 },
 "nbformat": 4,
 "nbformat_minor": 1
}
